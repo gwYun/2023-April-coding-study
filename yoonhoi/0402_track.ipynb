{
 "cells": [
  {
   "attachments": {},
   "cell_type": "markdown",
   "metadata": {},
   "source": [
    "# 2020 카카오 인턴십 - 경주로 건설\n",
    "-  23-04-03"
   ]
  },
  {
   "cell_type": "code",
   "execution_count": null,
   "metadata": {},
   "outputs": [],
   "source": []
  },
  {
   "attachments": {},
   "cell_type": "markdown",
   "metadata": {},
   "source": [
    "## 접근 1  : DFS\n",
    "\n"
   ]
  },
  {
   "cell_type": "code",
   "execution_count": null,
   "metadata": {},
   "outputs": [],
   "source": [
    "# 테케 24 통과 못함\n",
    "from copy import deepcopy\n",
    "from pprint import pprint\n",
    "\n",
    "dx = (0,0,-1,1)\n",
    "dy = (-1,1,0,0)\n",
    "INF = int(1e9)  \n",
    "\n",
    "def dfs(bx,by,x,y):\n",
    "    global board,money,N,visited\n",
    "\n",
    "    for i in range(4):\n",
    "        nx,ny = x+dx[i], y+dy[i]\n",
    "        if nx<0 or ny<0 or nx>=N or ny>=N or board[nx][ny]==1  or visited[nx][ny]==True: # or ((nx,ny) in log )\n",
    "            continue\n",
    "        \n",
    "        if bx==nx or by==ny :  # x 또는 y 좌표가 같으면 직선도로, 그외는 코너! \n",
    "            total_cost = money[x][y] + 100\n",
    "        else:\n",
    "            total_cost = money[x][y]+ 600\n",
    "\n",
    "        if total_cost <= money[nx][ny]:\n",
    "            money[nx][ny] = total_cost\n",
    "            visited[nx][ny]=True\n",
    "            dfs(x,y,nx,ny)\n",
    "            visited[nx][ny]=False\n",
    "\n",
    "    \n",
    "def solution(MAP):\n",
    "    global N,money, board,visited\n",
    "    board = deepcopy(MAP)\n",
    "    N = len(board)\n",
    "    money = [[INF]*N for _ in range(N)]\n",
    "    visited = [[False]*N for _ in range(N)]\n",
    "    \n",
    "    money[0][0]=0\n",
    "    dfs(0,0,0,0)\n",
    "    \n",
    "    answer = money[N-1][N-1]\n",
    "    pprint(money)\n",
    "    print(answer)\n",
    "    return answer\n"
   ]
  },
  {
   "attachments": {},
   "cell_type": "markdown",
   "metadata": {},
   "source": [
    "### 잘못 접근한 부분\n",
    "\n",
    "- 탐색 로그를 찍어보는데 중간에 멈춘다. \n",
    "- 그리디 방식으로 최저 값을 money 배열에 저장하다보니, 가격에 따라서 현재는 최저가 아니지만 그 다음에는 최저인 경우가 있음. \n",
    "- 그러나 마지막에서만 최저를 따지면 필요없이 많이 돌게 됨. 모든 탐색 케이스를 다 도는 것은 시간효율 X\n",
    "\n",
    "\n",
    "-  https://school.programmers.co.kr/questions/30355\n",
    "-  2차원 배열만으로 dp 사용할 경우 현재 최저 가격이 다음 레벨로 가는데 도음이 안 될 수 있음 .\n",
    "    -  900 -> 1500\n",
    "    -  1000 ->1100\n",
    "\n",
    "-  if total_cost <= money[nx][ny]:\n",
    "    - 여기서 같은걸 포함해 줘서 24빼고 다 맞는 건데 답 맞추는 기분... \n",
    "    - 정확한 알고리즘이 아닌 것\n",
    "\n",
    "- if total_cost <= money[nx][ny]+500:\n",
    "    - 이런 식으로 겹쳐지게 할 순 있지만, 이러면 최소값을 찾을 수가 없음\n",
    "    - https://school.programmers.co.kr/questions/30201\n",
    "    - 여기 답변\n",
    "\n",
    "- https://yjios.tistory.com/43\n",
    "    - 21 년도에 올라온 dfs 로 푸는 글인데 당시에는 통과가 된 것으로 보임\n",
    "    - 지금 저 코드로 돌리면 오류가 난다. \n"
   ]
  },
  {
   "attachments": {},
   "cell_type": "markdown",
   "metadata": {},
   "source": [
    "## 접근 2 : bfs + dp"
   ]
  },
  {
   "cell_type": "code",
   "execution_count": null,
   "metadata": {},
   "outputs": [],
   "source": [
    "\n",
    "from collections import deque\n",
    "from copy import deepcopy\n",
    "dx,dy = (-1,0,1,0),(0,-1,0,1)\n",
    "def bfs(x,y,cost,d):\n",
    "    global N,board\n",
    "    money = deepcopy(board)\n",
    "    q=deque()\n",
    "    q.append((x,y,cost,d))\n",
    "    while q:\n",
    "        x,y,cost,idx = q.popleft()\n",
    "        for i in range(4):\n",
    "            nx,ny = x+dx[i],y+dy[i]\n",
    "            if nx<0 or nx>=N or ny<0 or ny>=N or money[nx][ny]==1 : continue\n",
    "            \n",
    "            if idx==i : newcost=cost+100\n",
    "            else:newcost=cost+600\n",
    "            \n",
    "            if money[nx][ny]==0 or money[nx][ny]>newcost:\n",
    "                q.append((nx,ny,newcost,i))\n",
    "                money[nx][ny]=newcost\n",
    "            \n",
    "    return money[N-1][N-1]\n",
    "\n",
    "def solution(MAP):\n",
    "    global N,board\n",
    "    board = deepcopy(MAP)\n",
    "    N=len(board)\n",
    "    \n",
    "    return min(bfs(0,0,0,2),bfs(0,0,0,3))"
   ]
  },
  {
   "attachments": {},
   "cell_type": "markdown",
   "metadata": {},
   "source": [
    "- bfs(x,y,cost,direction)\n",
    "- 오른쪽으로, 아랫쪽으로 가는 두 가지의 경우를 시작 방향으로 설정해서 둘 중 최솟값이 정답."
   ]
  },
  {
   "attachments": {},
   "cell_type": "markdown",
   "metadata": {},
   "source": [
    "# 2020 카카오인턴십  > 보석쇼핑\n"
   ]
  },
  {
   "cell_type": "code",
   "execution_count": null,
   "metadata": {},
   "outputs": [],
   "source": [
    "def solution(gems):\n",
    "    N= len(gems)\n",
    "    answer = [0,N-1]\n",
    "    kind = len(set(gems))\n",
    "    dic = {gems[0]:1}\n",
    "    s,e, = 0,0\n",
    "    while s<N and e<N:\n",
    "        if len(dic)<kind: # 종류가 부족하면 end포인트 증가하고, \n",
    "            e+=1\n",
    "            if e==N:\n",
    "                break\n",
    "            dic[gems[e]] = dic.get(gems[e],0)+1\n",
    "            #\n",
    "            \n",
    "        else: # 종류는 부족하지 않으면 ans 비교해서 답 갱신, start point 증가, dic 개수 다운\n",
    "            if(e-s+1) < (answer[1] - answer[0]+1):\n",
    "                answer = [s,e]\n",
    "            if dic[gems[s]] ==1 : # 그 종류가 하나밖에 없으면 \n",
    "                del dic[gems[s]] # 딕셔너리에서 원소 삭제하고 \n",
    "            else:\n",
    "                dic[gems[s]]-=1 # 하나는 아니면 수만 줄인다. \n",
    "            s+=1\n",
    "            \n",
    "    answer[0]+=1\n",
    "    answer[1]+=1\n",
    "    return answer"
   ]
  },
  {
   "cell_type": "code",
   "execution_count": null,
   "metadata": {},
   "outputs": [],
   "source": [
    "from collections import defaultdict\n",
    "\n",
    "def solution(gems):\n",
    "    min_gems  = int(1e9)\n",
    "    len_gems = len(gems) \n",
    "    n_gems = len(set(gems))\n",
    "    end = 0\n",
    "    temp = defaultdict(lambda : 0)\n",
    "    for start, gem in enumerate(gems):\n",
    "        while len(temp) < n_gems and end < len_gems: \n",
    "            temp[gems[end]] += 1\n",
    "            end += 1\n",
    "        if len(temp) == n_gems:\n",
    "            if min_gems > end-start:\n",
    "                min_gems = end-start\n",
    "                result = [start+1, end]      \n",
    "        temp[gem] -= 1\n",
    "        if temp[gem] == 0:\n",
    "            del(temp[gem])\n",
    "    return result\n"
   ]
  },
  {
   "cell_type": "markdown",
   "metadata": {},
   "source": []
  }
 ],
 "metadata": {
  "kernelspec": {
   "display_name": "Python 3",
   "language": "python",
   "name": "python3"
  },
  "language_info": {
   "name": "python",
   "version": "3.9.6 (default, Sep 26 2022, 11:37:49) \n[Clang 14.0.0 (clang-1400.0.29.202)]"
  },
  "orig_nbformat": 4,
  "vscode": {
   "interpreter": {
    "hash": "31f2aee4e71d21fbe5cf8b01ff0e069b9275f58929596ceb00d14d90e3e16cd6"
   }
  }
 },
 "nbformat": 4,
 "nbformat_minor": 2
}
